{
 "cells": [
  {
   "cell_type": "code",
   "execution_count": 11,
   "metadata": {},
   "outputs": [],
   "source": [
    "import pandas as pd"
   ]
  },
  {
   "cell_type": "code",
   "execution_count": 12,
   "metadata": {},
   "outputs": [],
   "source": [
    "df = pd.read_csv('../dataset/sdg_08_20_linear_2_0.csv')"
   ]
  },
  {
   "cell_type": "code",
   "execution_count": 13,
   "metadata": {},
   "outputs": [
    {
     "data": {
      "text/html": [
       "<div>\n",
       "<style scoped>\n",
       "    .dataframe tbody tr th:only-of-type {\n",
       "        vertical-align: middle;\n",
       "    }\n",
       "\n",
       "    .dataframe tbody tr th {\n",
       "        vertical-align: top;\n",
       "    }\n",
       "\n",
       "    .dataframe thead th {\n",
       "        text-align: right;\n",
       "    }\n",
       "</style>\n",
       "<table border=\"1\" class=\"dataframe\">\n",
       "  <thead>\n",
       "    <tr style=\"text-align: right;\">\n",
       "      <th></th>\n",
       "      <th>STRUCTURE</th>\n",
       "      <th>STRUCTURE_ID</th>\n",
       "      <th>STRUCTURE_NAME</th>\n",
       "      <th>freq</th>\n",
       "      <th>Time frequency</th>\n",
       "      <th>sex</th>\n",
       "      <th>Sex</th>\n",
       "      <th>age</th>\n",
       "      <th>Age class</th>\n",
       "      <th>unit</th>\n",
       "      <th>Unit of measure</th>\n",
       "      <th>geo</th>\n",
       "      <th>Geopolitical entity (reporting)</th>\n",
       "      <th>TIME_PERIOD</th>\n",
       "      <th>Time</th>\n",
       "      <th>OBS_VALUE</th>\n",
       "      <th>Observation value</th>\n",
       "      <th>OBS_FLAG</th>\n",
       "      <th>Observation status (Flag)</th>\n",
       "      <th>LAST UPDATE</th>\n",
       "    </tr>\n",
       "  </thead>\n",
       "  <tbody>\n",
       "    <tr>\n",
       "      <th>0</th>\n",
       "      <td>dataflow</td>\n",
       "      <td>ESTAT:SDG_08_20(1.0)</td>\n",
       "      <td>Young people neither in employment nor in educ...</td>\n",
       "      <td>A</td>\n",
       "      <td>Annual</td>\n",
       "      <td>F</td>\n",
       "      <td>Females</td>\n",
       "      <td>Y15-29</td>\n",
       "      <td>From 15 to 29 years</td>\n",
       "      <td>PC_POP</td>\n",
       "      <td>Percentage of total population</td>\n",
       "      <td>AT</td>\n",
       "      <td>Austria</td>\n",
       "      <td>2009</td>\n",
       "      <td>NaN</td>\n",
       "      <td>11.9</td>\n",
       "      <td>NaN</td>\n",
       "      <td>NaN</td>\n",
       "      <td>NaN</td>\n",
       "      <td>02/05/24 23:00:00</td>\n",
       "    </tr>\n",
       "    <tr>\n",
       "      <th>1</th>\n",
       "      <td>dataflow</td>\n",
       "      <td>ESTAT:SDG_08_20(1.0)</td>\n",
       "      <td>Young people neither in employment nor in educ...</td>\n",
       "      <td>A</td>\n",
       "      <td>Annual</td>\n",
       "      <td>F</td>\n",
       "      <td>Females</td>\n",
       "      <td>Y15-29</td>\n",
       "      <td>From 15 to 29 years</td>\n",
       "      <td>PC_POP</td>\n",
       "      <td>Percentage of total population</td>\n",
       "      <td>AT</td>\n",
       "      <td>Austria</td>\n",
       "      <td>2010</td>\n",
       "      <td>NaN</td>\n",
       "      <td>11.2</td>\n",
       "      <td>NaN</td>\n",
       "      <td>NaN</td>\n",
       "      <td>NaN</td>\n",
       "      <td>02/05/24 23:00:00</td>\n",
       "    </tr>\n",
       "    <tr>\n",
       "      <th>2</th>\n",
       "      <td>dataflow</td>\n",
       "      <td>ESTAT:SDG_08_20(1.0)</td>\n",
       "      <td>Young people neither in employment nor in educ...</td>\n",
       "      <td>A</td>\n",
       "      <td>Annual</td>\n",
       "      <td>F</td>\n",
       "      <td>Females</td>\n",
       "      <td>Y15-29</td>\n",
       "      <td>From 15 to 29 years</td>\n",
       "      <td>PC_POP</td>\n",
       "      <td>Percentage of total population</td>\n",
       "      <td>AT</td>\n",
       "      <td>Austria</td>\n",
       "      <td>2011</td>\n",
       "      <td>NaN</td>\n",
       "      <td>10.4</td>\n",
       "      <td>NaN</td>\n",
       "      <td>NaN</td>\n",
       "      <td>NaN</td>\n",
       "      <td>02/05/24 23:00:00</td>\n",
       "    </tr>\n",
       "    <tr>\n",
       "      <th>3</th>\n",
       "      <td>dataflow</td>\n",
       "      <td>ESTAT:SDG_08_20(1.0)</td>\n",
       "      <td>Young people neither in employment nor in educ...</td>\n",
       "      <td>A</td>\n",
       "      <td>Annual</td>\n",
       "      <td>F</td>\n",
       "      <td>Females</td>\n",
       "      <td>Y15-29</td>\n",
       "      <td>From 15 to 29 years</td>\n",
       "      <td>PC_POP</td>\n",
       "      <td>Percentage of total population</td>\n",
       "      <td>AT</td>\n",
       "      <td>Austria</td>\n",
       "      <td>2012</td>\n",
       "      <td>NaN</td>\n",
       "      <td>10.1</td>\n",
       "      <td>NaN</td>\n",
       "      <td>NaN</td>\n",
       "      <td>NaN</td>\n",
       "      <td>02/05/24 23:00:00</td>\n",
       "    </tr>\n",
       "    <tr>\n",
       "      <th>4</th>\n",
       "      <td>dataflow</td>\n",
       "      <td>ESTAT:SDG_08_20(1.0)</td>\n",
       "      <td>Young people neither in employment nor in educ...</td>\n",
       "      <td>A</td>\n",
       "      <td>Annual</td>\n",
       "      <td>F</td>\n",
       "      <td>Females</td>\n",
       "      <td>Y15-29</td>\n",
       "      <td>From 15 to 29 years</td>\n",
       "      <td>PC_POP</td>\n",
       "      <td>Percentage of total population</td>\n",
       "      <td>AT</td>\n",
       "      <td>Austria</td>\n",
       "      <td>2013</td>\n",
       "      <td>NaN</td>\n",
       "      <td>10.3</td>\n",
       "      <td>NaN</td>\n",
       "      <td>NaN</td>\n",
       "      <td>NaN</td>\n",
       "      <td>02/05/24 23:00:00</td>\n",
       "    </tr>\n",
       "  </tbody>\n",
       "</table>\n",
       "</div>"
      ],
      "text/plain": [
       "  STRUCTURE          STRUCTURE_ID  \\\n",
       "0  dataflow  ESTAT:SDG_08_20(1.0)   \n",
       "1  dataflow  ESTAT:SDG_08_20(1.0)   \n",
       "2  dataflow  ESTAT:SDG_08_20(1.0)   \n",
       "3  dataflow  ESTAT:SDG_08_20(1.0)   \n",
       "4  dataflow  ESTAT:SDG_08_20(1.0)   \n",
       "\n",
       "                                      STRUCTURE_NAME freq Time frequency sex  \\\n",
       "0  Young people neither in employment nor in educ...    A         Annual   F   \n",
       "1  Young people neither in employment nor in educ...    A         Annual   F   \n",
       "2  Young people neither in employment nor in educ...    A         Annual   F   \n",
       "3  Young people neither in employment nor in educ...    A         Annual   F   \n",
       "4  Young people neither in employment nor in educ...    A         Annual   F   \n",
       "\n",
       "       Sex     age            Age class    unit  \\\n",
       "0  Females  Y15-29  From 15 to 29 years  PC_POP   \n",
       "1  Females  Y15-29  From 15 to 29 years  PC_POP   \n",
       "2  Females  Y15-29  From 15 to 29 years  PC_POP   \n",
       "3  Females  Y15-29  From 15 to 29 years  PC_POP   \n",
       "4  Females  Y15-29  From 15 to 29 years  PC_POP   \n",
       "\n",
       "                  Unit of measure geo Geopolitical entity (reporting)  \\\n",
       "0  Percentage of total population  AT                         Austria   \n",
       "1  Percentage of total population  AT                         Austria   \n",
       "2  Percentage of total population  AT                         Austria   \n",
       "3  Percentage of total population  AT                         Austria   \n",
       "4  Percentage of total population  AT                         Austria   \n",
       "\n",
       "   TIME_PERIOD  Time  OBS_VALUE  Observation value OBS_FLAG  \\\n",
       "0         2009   NaN       11.9                NaN      NaN   \n",
       "1         2010   NaN       11.2                NaN      NaN   \n",
       "2         2011   NaN       10.4                NaN      NaN   \n",
       "3         2012   NaN       10.1                NaN      NaN   \n",
       "4         2013   NaN       10.3                NaN      NaN   \n",
       "\n",
       "  Observation status (Flag)        LAST UPDATE  \n",
       "0                       NaN  02/05/24 23:00:00  \n",
       "1                       NaN  02/05/24 23:00:00  \n",
       "2                       NaN  02/05/24 23:00:00  \n",
       "3                       NaN  02/05/24 23:00:00  \n",
       "4                       NaN  02/05/24 23:00:00  "
      ]
     },
     "execution_count": 13,
     "metadata": {},
     "output_type": "execute_result"
    }
   ],
   "source": [
    "df.head()"
   ]
  },
  {
   "cell_type": "code",
   "execution_count": 14,
   "metadata": {},
   "outputs": [],
   "source": [
    "df = df.dropna(subset=['Geopolitical entity (reporting)', 'OBS_VALUE'])"
   ]
  },
  {
   "cell_type": "code",
   "execution_count": 15,
   "metadata": {},
   "outputs": [],
   "source": [
    "df = df.drop(columns= ['STRUCTURE', 'STRUCTURE_ID', 'STRUCTURE_NAME', 'freq', 'Time frequency', 'sex','age','Age class','unit','Unit of measure','Time'\n",
    "                       ,'Observation value',\t'OBS_FLAG'\t,'Observation status (Flag)'\t,'LAST UPDATE'])"
   ]
  },
  {
   "cell_type": "code",
   "execution_count": 16,
   "metadata": {},
   "outputs": [],
   "source": [
    "df = df.drop(columns= ['Sex', 'geo', 'TIME_PERIOD'])"
   ]
  },
  {
   "cell_type": "code",
   "execution_count": 17,
   "metadata": {},
   "outputs": [],
   "source": [
    "df = df.rename(columns={'Geopolitical entity (reporting)': 'Country', 'OBS_VALUE': 'NEET_Rate'})"
   ]
  },
  {
   "cell_type": "code",
   "execution_count": 18,
   "metadata": {},
   "outputs": [],
   "source": [
    "df[['NEET_Rate']] = df[['NEET_Rate']].apply(pd.to_numeric)"
   ]
  },
  {
   "cell_type": "code",
   "execution_count": 19,
   "metadata": {},
   "outputs": [],
   "source": [
    "df = df.groupby(['Country']).mean().reset_index()"
   ]
  },
  {
   "cell_type": "code",
   "execution_count": 20,
   "metadata": {},
   "outputs": [],
   "source": [
    "df = df.sort_values(by=['NEET_Rate'], ascending=False)"
   ]
  },
  {
   "cell_type": "code",
   "execution_count": 21,
   "metadata": {},
   "outputs": [],
   "source": [
    "df = df.drop(labels=[9, 10], axis=0)"
   ]
  },
  {
   "cell_type": "code",
   "execution_count": 22,
   "metadata": {},
   "outputs": [
    {
     "data": {
      "text/html": [
       "<div>\n",
       "<style scoped>\n",
       "    .dataframe tbody tr th:only-of-type {\n",
       "        vertical-align: middle;\n",
       "    }\n",
       "\n",
       "    .dataframe tbody tr th {\n",
       "        vertical-align: top;\n",
       "    }\n",
       "\n",
       "    .dataframe thead th {\n",
       "        text-align: right;\n",
       "    }\n",
       "</style>\n",
       "<table border=\"1\" class=\"dataframe\">\n",
       "  <thead>\n",
       "    <tr style=\"text-align: right;\">\n",
       "      <th></th>\n",
       "      <th>Country</th>\n",
       "      <th>NEET_Rate</th>\n",
       "    </tr>\n",
       "  </thead>\n",
       "  <tbody>\n",
       "    <tr>\n",
       "      <th>25</th>\n",
       "      <td>North Macedonia</td>\n",
       "      <td>30.630556</td>\n",
       "    </tr>\n",
       "    <tr>\n",
       "      <th>36</th>\n",
       "      <td>Türkiye</td>\n",
       "      <td>29.953333</td>\n",
       "    </tr>\n",
       "    <tr>\n",
       "      <th>2</th>\n",
       "      <td>Bosnia and Herzegovina</td>\n",
       "      <td>23.677778</td>\n",
       "    </tr>\n",
       "    <tr>\n",
       "      <th>30</th>\n",
       "      <td>Serbia</td>\n",
       "      <td>23.292857</td>\n",
       "    </tr>\n",
       "    <tr>\n",
       "      <th>23</th>\n",
       "      <td>Montenegro</td>\n",
       "      <td>23.123333</td>\n",
       "    </tr>\n",
       "  </tbody>\n",
       "</table>\n",
       "</div>"
      ],
      "text/plain": [
       "                   Country  NEET_Rate\n",
       "25         North Macedonia  30.630556\n",
       "36                 Türkiye  29.953333\n",
       "2   Bosnia and Herzegovina  23.677778\n",
       "30                  Serbia  23.292857\n",
       "23              Montenegro  23.123333"
      ]
     },
     "execution_count": 22,
     "metadata": {},
     "output_type": "execute_result"
    }
   ],
   "source": [
    "df.head()"
   ]
  },
  {
   "cell_type": "code",
   "execution_count": 23,
   "metadata": {},
   "outputs": [],
   "source": [
    "df.to_csv('../clean_data/barchart_data.csv', index=False)"
   ]
  }
 ],
 "metadata": {
  "kernelspec": {
   "display_name": "base",
   "language": "python",
   "name": "python3"
  },
  "language_info": {
   "codemirror_mode": {
    "name": "ipython",
    "version": 3
   },
   "file_extension": ".py",
   "mimetype": "text/x-python",
   "name": "python",
   "nbconvert_exporter": "python",
   "pygments_lexer": "ipython3",
   "version": "3.11.5"
  }
 },
 "nbformat": 4,
 "nbformat_minor": 2
}
